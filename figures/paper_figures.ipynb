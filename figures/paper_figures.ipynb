{
 "cells": [
  {
   "cell_type": "code",
   "execution_count": null,
   "metadata": {
    "pycharm": {
     "name": "#%%\n"
    }
   },
   "outputs": [],
   "source": [
    "import numpy as np\n",
    "import pandas as pd \n",
    "\n",
    "import matplotlib\n",
    "import matplotlib.pyplot as plt\n",
    "import seaborn as sns\n",
    "import matplotlib as mpl\n",
    "from matplotlib.cm import ScalarMappable\n",
    "from matplotlib.lines import Line2D\n",
    "from mpl_toolkits.axes_grid1.inset_locator import inset_axes\n",
    "from textwrap import wrap\n",
    "\n",
    "import codecs\n",
    "import glob\n",
    "from tqdm.notebook import tqdm\n",
    "import itertools\n",
    "from collections import Counter\n",
    "import os\n",
    "import sys\n",
    "\n",
    "\n",
    "matplotlib.rcParams['pdf.fonttype'] = 42\n",
    "matplotlib.rcParams['ps.fonttype'] = 42\n",
    "\n",
    "import pickle\n",
    "\n",
    "#shut down warnings\n",
    "import warnings\n",
    "warnings.filterwarnings('ignore')"
   ]
  },
  {
   "cell_type": "markdown",
   "metadata": {
    "pycharm": {
     "name": "#%% md\n"
    }
   },
   "source": [
    "## Paper Figures\n",
    "\n",
    "This notebook allows for reconstructing most of paper figures (except of illustrations figures) </br>"
   ]
  },
  {
   "cell_type": "markdown",
   "metadata": {
    "pycharm": {
     "name": "#%% md\n"
    }
   },
   "source": [
    "### Load data\n",
    "First you'll need to load the data for generating the figures.</br>\n",
    "\n",
    "The data needed can be found in the supplementary material provided with the paper.</br>\n",
    "\n",
    "Download instruction found in main Readme file"
   ]
  },
  {
   "cell_type": "code",
   "execution_count": null,
   "metadata": {
    "pycharm": {
     "name": "#%%\n"
    }
   },
   "outputs": [],
   "source": [
    "w = pd.read_csv(\"models_and_data/figures_data.csv\")\n",
    "known_system_table = pd.read_csv(\"models_and_data/novel_defense_mapping/defense_hypothetical_system_predictions.csv\")\n",
    "rarefaction_path = \"models_and_data/rarefaction/*pkl\"\n",
    "all_metrics = pd.read_csv('models_and_data/benchmark/all_metrics.csv')\n",
    "acc_by_mdl = pd.read_csv('models_and_data/benchmark/model_comp.csv')"
   ]
  },
  {
   "cell_type": "code",
   "execution_count": null,
   "metadata": {
    "pycharm": {
     "name": "#%%\n"
    }
   },
   "outputs": [],
   "source": [
    "labels = ['Prokaryotic defense system', 'Secretion system',\n",
    "       'Benzoate degradation', 'Oxidative phosphorylation',\n",
    "       'Two-component system', 'Ribosome',\n",
    "       'Porphyrin and chlorophyll metabolism', 'Energy metabolism',\n",
    "       'Other', 'Amino sugar and nucleotide sugar metabolism']"
   ]
  },
  {
   "cell_type": "markdown",
   "metadata": {
    "pycharm": {
     "name": "#%% md\n"
    }
   },
   "source": [
    "### Figure 2"
   ]
  },
  {
   "cell_type": "code",
   "execution_count": null,
   "metadata": {
    "pycharm": {
     "name": "#%%\n"
    }
   },
   "outputs": [],
   "source": [
    "f, ax = plt.subplots(1,3,figsize=(16, 5))\n",
    "\n",
    "# All space\n",
    "all_space = w[(w['x'] <= 8) & (w['y'] < 19) & (w['y'] >= 2) & (w['x'] > -10)]\n",
    "sns.scatterplot(x='x', y='y', data=all_space[all_space['label'] == 'unknown'],color='grey',\n",
    "                alpha=0.01, linewidth=0, s=2, ax=ax[0], legend=False)\n",
    "sns.scatterplot(x='x', y='y', data=all_space[all_space['label']!= 'unknown'] ,color='#D29380',\n",
    "                alpha=0.05, linewidth=0, s=4, ax=ax[0], legend=False)\n",
    "\n",
    "\n",
    "# CRISPR zoom-in\n",
    "crspr = w[(w['x'] > -2) & (w['x'] < -0.4) & (w['y'] > 2) & (w['y'] <4.4)]\n",
    "crspr[\"label\"] = crspr.apply(lambda w: \"CRISPR\" if (w['x'] > -1) and (w['x'] < -0.4) and\n",
    "                             (w['y'] > 0) and (w['y'] <2.8) else w['label'], axis=1)\n",
    "crspr['label'] = crspr.apply(lambda w: \"Prokaryotic defense system\" if w[\"hmm_type\"] == \"defense\" else w[\"label\"], axis=1)\n",
    "cmap = sns.color_palette(['cornflowerblue', 'tomato'])\n",
    "sns.scatterplot(x='x', y='y', data=crspr[crspr[\"hmm_type\"] != 'defense'],\n",
    "                color='grey', alpha=0.09, linewidth=0, s=4, ax=ax[1], label=\"Non-Defense\", legend=False)\n",
    "sns.scatterplot(x='x', y='y', data=crspr[crspr[\"label\"].isin([\"Prokaryotic defense system\", \"CRISPR\"])],\n",
    "                palette=cmap, alpha=0.6, linewidth=0, s=14, ax=ax[1],hue='label',\n",
    "                label=\"Prokaryotic defense system\", legend=False)\n",
    "\n",
    "\n",
    "# Secretion zoom-in\n",
    "secr = w[(w['x'] > -.5) & (w['x'] < 8.5) & (w['y'] > 7) & (w['y'] < 14)]\n",
    "cmap = sns.color_palette([\"tomato\", \"darkmagenta\" ,\"cornflowerblue\",\"seagreen\",\"deeppink\"])\n",
    "sns.scatterplot(x='x', y='y', data=secr[(secr['label'] == 'unknown')],color='grey',\n",
    "                alpha=0.009, linewidth=0, s=4, ax=ax[2], legend=False)\n",
    "sns.scatterplot(x='x', y='y', data=secr[(secr[\"label\"] == \"Secretion system\") & (secr[\"secretion_type\"] != \"other\")],\n",
    "                    hue='secretion_type',palette=cmap, alpha=0.8, linewidth=0, s=14, ax=ax[2], legend=False)\n",
    "\n",
    "ax[0].set_xlabel(\"UMAP1\")\n",
    "ax[1].set_xlabel(\"UMAP1\")\n",
    "ax[2].set_xlabel(\"UMAP1\")\n",
    "\n",
    "ax[0].set_ylabel(\"UMAP2\")\n",
    "ax[1].set_ylabel(\"\")\n",
    "ax[2].set_ylabel(\"\")\n",
    "\n",
    "for i in range(3):\n",
    "    ax[i].axes.get_xaxis().set_visible(False)\n",
    "    ax[i].axes.get_yaxis().set_visible(False)\n",
    "    plt.setp(ax[i].spines.values(), color=\"#D2D7DA\", lw=2)\n",
    "\n",
    "plt.savefig(\"figure2.png\", format='png', dpi=350)"
   ]
  },
  {
   "cell_type": "markdown",
   "metadata": {
    "pycharm": {
     "name": "#%% md\n"
    }
   },
   "source": [
    "### Figure 3 "
   ]
  },
  {
   "cell_type": "code",
   "execution_count": null,
   "metadata": {
    "pycharm": {
     "name": "#%%\n"
    }
   },
   "outputs": [],
   "source": [
    "# Figure 3a + c\n",
    "\n",
    "sns.set_context(\"poster\")\n",
    "fig, ax = plt.subplots(2,1,figsize=(22,10))\n",
    "melted = pd.melt(all_metrics[all_metrics['class'] != 'overall'],\n",
    "                 id_vars=['classifier'], value_vars=['f1-score', 'accuracy', 'precision','recall'])\n",
    "\n",
    "\n",
    "sns.pointplot(x='label', y='f1-score', hue='model', data=acc_by_mdl,\n",
    "             alpha=1, marker=True, palette=['#7F9ACF', '#F9B233', '#F3CCB8', '#EF856A'], ax=ax[0])\n",
    "sns.barplot(x='variable', y='value', hue='classifier', data=melted, ax=ax[1], palette='Reds_r',\\\n",
    "           capsize=.06, errwidth=4)\n",
    "for i in [0,1]:\n",
    "    ax[i].set_ylim(0,1)\n",
    "    ax[i].legend(bbox_to_anchor=[1,0.86])\n",
    "    ax[i].set_xlabel('')\n",
    "fig.tight_layout()\n",
    "plt.savefig(\"figure3.pdf\", bbox_inches='tight')\n"
   ]
  },
  {
   "cell_type": "markdown",
   "metadata": {
    "pycharm": {
     "name": "#%% md\n"
    }
   },
   "source": [
    "### Figure 3 "
   ]
  },
  {
   "cell_type": "code",
   "execution_count": null,
   "metadata": {
    "pycharm": {
     "name": "#%%\n"
    }
   },
   "outputs": [],
   "source": [
    "# Figure 3a + c\n",
    "\n",
    "sns.set_context(\"poster\")\n",
    "fig, ax = plt.subplots(2,1,figsize=(22,10))\n",
    "melted = pd.melt(all_metrics[all_metrics['class'] != 'overall'],\n",
    "                 id_vars=['classifier'], value_vars=['f1-score', 'accuracy', 'precision','recall'])\n",
    "\n",
    "\n",
    "sns.pointplot(x='label', y='f1-score', hue='model', data=acc_by_mdl,\n",
    "             alpha=1, marker=True, palette=['#7F9ACF', '#F9B233', '#F3CCB8', '#EF856A'], ax=ax[0])\n",
    "sns.barplot(x='variable', y='value', hue='classifier', data=melted, ax=ax[1], palette='Reds_r',\\\n",
    "           capsize=.06, errwidth=4)\n",
    "for i in [0,1]:\n",
    "    ax[i].set_ylim(0,1)\n",
    "    ax[i].legend(bbox_to_anchor=[1,0.86])\n",
    "    ax[i].set_xlabel('')\n",
    "fig.tight_layout()\n",
    "plt.savefig(\"figure3.pdf\", bbox_inches='tight')\n"
   ]
  },
  {
   "cell_type": "markdown",
   "metadata": {
    "pycharm": {
     "name": "#%% md\n"
    }
   },
   "source": [
    "### Figure 4"
   ]
  },
  {
   "cell_type": "code",
   "execution_count": null,
   "metadata": {
    "pycharm": {
     "name": "#%%\n"
    }
   },
   "outputs": [],
   "source": [
    "# Figure 4a\n",
    "# candidates\n",
    "f, ax = plt.subplots(figsize=(7, 7))\n",
    "\n",
    "all_space = w[(w['x'] <= 10) & (w['y'] >= 1.2)]\n",
    "all_space = all_space[(all_space['predicted_class'].isin(labels))].sort_values(by=\"predicted_class\")\n",
    "cmap = sns.color_palette(['deeppink', '#3F681C', 'lightcoral', 'gainsboro', 'indianred', 'aqua','#FB6542', 'lightgreen', 'dodgerblue', 'gold'])\n",
    "sns.scatterplot(x='x', y='y', data=all_space ,hue='predicted_class', palette=cmap,\n",
    "                alpha=0.1, linewidth=0, s=4, ax=ax)\n",
    "\n",
    "ax.axes.get_xaxis().set_visible(False)\n",
    "ax.axes.get_yaxis().set_visible(False)\n",
    "plt.setp(ax.spines.values(), color=\"#D2D7DA\", lw=2)\n",
    "plt.legend(bbox_to_anchor=[1,1])\n",
    "\n",
    "plt.savefig(\"candidates.png\", format='png', dpi=350,bbox_inches=\"tight\")"
   ]
  },
  {
   "cell_type": "code",
   "execution_count": null,
   "metadata": {
    "pycharm": {
     "name": "#%%\n"
    }
   },
   "outputs": [],
   "source": [
    "# Figure 4b\n",
    "\n",
    "# This figure was adjusted from :\n",
    "# https://www.python-graph-gallery.com/web-circular-barplot-with-matplotlib\n",
    "\n",
    "\n",
    "w_preds = w[(w['label'].isin(labels)) | (w['predicted_class'].isin(labels))]\n",
    "w_preds[\"class\"] = w_preds.apply(lambda x: x['label'] if x['label'] != 'unknown' else x['predicted_class'], axis=1)\n",
    "w_preds['hypothetical'] = w_preds['word'].apply(lambda x: \"hypo.clst.\" in x)\n",
    "grp = w_preds.groupby(['class', 'hypothetical']).agg({'word': pd.Series.nunique, 'word_count': sum}).reset_index()\n",
    "\n",
    "grp['word_count_log'] = np.log10(grp['word_count'])\n",
    "grp['word_log'] = np.log10(grp['word'])\n",
    "\n",
    "grp_hypo = grp[grp['hypothetical'] == True]\n",
    "grp_known = dict(grp[grp['hypothetical'] != True][[\"class\", \"word_log\"]].values)\n",
    "grp_known['Other'] = 3.5\n",
    "grp_hypo['n'] = grp_hypo['class'].apply(lambda x: grp_known[x])\n",
    "\n",
    "df_sorted = grp_hypo.sort_values(\"word_count\", ascending=False)\n",
    "\n",
    "# Values for the x axis\n",
    "ANGLES = np.linspace(0.05, 2 * np.pi - 0.05, len(df_sorted), endpoint=False)\n",
    "LENGTHS = df_sorted[\"word_count_log\"].values\n",
    "MEAN_GAIN = df_sorted[\"word_log\"].values\n",
    "REGION = df_sorted[\"class\"].values\n",
    "TRACKS_N = df_sorted[\"n\"].values\n",
    "\n",
    "GREY12 = \"#1f1f1f\"\n",
    "COLORS = [\"#6C5B7B\", \"#C06C84\", \"#F67280\", \"#F8B195\"]\n",
    "cmap = mpl.colors.LinearSegmentedColormap.from_list(\"my color\", COLORS, N=256)\n",
    "norm = mpl.colors.Normalize(vmin=TRACKS_N.min(), vmax=TRACKS_N.max())\n",
    "\n",
    "COLORS = cmap(norm(TRACKS_N))\n",
    "\n",
    "fig, ax = plt.subplots(figsize=(9, 12.6), subplot_kw={\"projection\": \"polar\"})\n",
    "\n",
    "fig.patch.set_facecolor(\"white\")\n",
    "ax.set_facecolor(\"white\")\n",
    "\n",
    "ax.set_theta_offset(1.2 * np.pi / 2)\n",
    "ax.set_ylim(-2, 8)\n",
    "\n",
    "ax.bar(ANGLES, LENGTHS, color=COLORS, alpha=0.9, width=0.52, zorder=10)\n",
    "ax.vlines(ANGLES, 0, 8, color=GREY12, ls=(0, (4, 4)), zorder=11)\n",
    "\n",
    "ax.scatter(ANGLES, MEAN_GAIN, s=60, color=GREY12, zorder=11)\n",
    "\n",
    "\n",
    "REGION = [\"\\n\".join(wrap(r, 5, break_long_words=False)) for r in REGION]\n",
    "# Set the labels\n",
    "ax.set_xticks(ANGLES)\n",
    "ax.set_xticklabels(REGION, size=12)\n",
    "\n",
    "\n",
    "cbaxes = inset_axes(\n",
    "    ax,\n",
    "    width=\"100%\",\n",
    "    height=\"100%\",\n",
    "    loc=\"center\",\n",
    "    bbox_to_anchor=(0.325, 0.1, 0.35, 0.01),\n",
    "    bbox_transform=fig.transFigure  # Note it uses the figure.\n",
    ")\n",
    "\n",
    "# Create a new norm, which is discrete\n",
    "bounds = [1, 150, 400, 1000, 3000]\n",
    "norm = mpl.colors.BoundaryNorm(bounds, cmap.N)\n",
    "\n",
    "# Create the colorbar\n",
    "cb = fig.colorbar(\n",
    "    ScalarMappable(norm=norm, cmap=cmap),\n",
    "    cax=cbaxes,  # Use the inset_axes created above\n",
    "    orientation=\"horizontal\",\n",
    "    ticks=[150, 400, 1000, 3000]\n",
    ")\n",
    "\n",
    "cb.outline.set_visible(False)\n",
    "cb.ax.xaxis.set_tick_params(size=0)\n",
    "cb.set_label(\"Words in training set\", size=16, labelpad=-40)\n",
    "\n",
    "plt.savefig(\"predictions_cbar.png\", format='png', dpi=350)"
   ]
  },
  {
   "cell_type": "code",
   "execution_count": null,
   "metadata": {
    "pycharm": {
     "name": "#%%\n"
    }
   },
   "outputs": [],
   "source": [
    "# Figure 4c\n",
    "f, ax = plt.subplots(1,2,figsize=(6.5, 3))\n",
    "\n",
    "all_space1 = w[(w['x'] <= -0.5) & (w['y'] >= 3) & (w['x'] > -3) & (w['y'] <= 4.5)]\n",
    "sns.scatterplot(x='x', y='y', data=all_space1[(all_space1['label'] == 'unknown') &\n",
    "                                             (all_space1['hmm_type'] != 'defense')],color='grey',\n",
    "                alpha=0.008, linewidth=0, s=8, ax=ax[0], legend=False)\n",
    "sns.scatterplot(x='x', y='y', data=all_space1[all_space1['label'] == 'Prokaryotic defense system'] ,color='tomato',\n",
    "                alpha=0.4, linewidth=0, s=10, ax=ax[0], legend=False)\n",
    "sns.scatterplot(x='x', y='y', data=all_space1[all_space1['hmm_type'] == 'defense'] ,hue='system', palette='Blues',\n",
    "                alpha=0.4, linewidth=0, s=10, ax=ax[0], legend=False)\n",
    "\n",
    "all_space2 = w[(w['x'] > 0) & (w['y'] >= 11) & (w['x'] < 4) & (w['y'] <= 12.5)]\n",
    "sns.scatterplot(x='x', y='y', data=all_space2[(all_space2['label'] == 'unknown') &\n",
    "                                             (all_space2['hmm_type'] != 'defense')],color='grey',\n",
    "                alpha=0.008, linewidth=0, s=8, ax=ax[1], legend=False)\n",
    "sns.scatterplot(x='x', y='y', data=all_space2[all_space2['label'] == 'Prokaryotic defense system'] ,color='tomato',\n",
    "                alpha=0.4, linewidth=0, s=10, ax=ax[1], legend=False)\n",
    "sns.scatterplot(x='x', y='y', data=all_space2[all_space2['hmm_type'] == 'defense'] ,hue='system', palette='Blues',\n",
    "                alpha=0.4, linewidth=0, s=10, ax=ax[1], legend=False)\n",
    "\n",
    "for i in [0,1]:\n",
    "    ax[i].axes.get_xaxis().set_visible(False)\n",
    "    ax[i].axes.get_yaxis().set_visible(False)\n",
    "    plt.setp(ax[i].spines.values(), color=\"#D2D7DA\", lw=2)\n",
    "\n",
    "plt.savefig(\"prokaryotic_zoomin.png\", format='png', dpi=350)"
   ]
  },
  {
   "cell_type": "code",
   "execution_count": null,
   "metadata": {
    "pycharm": {
     "name": "#%%\n"
    }
   },
   "outputs": [],
   "source": [
    "# Figure 4d\n",
    "f, ax = plt.subplots(figsize=(14, 6))\n",
    "\n",
    "plt_data = known_system_table[(known_system_table['system'] != 'unknown')]\n",
    "plt_data[\"class\"] = plt_data[\"predicted_class\"].apply(lambda x: x if \"Proka\" in x else \"Other classes\")\n",
    "\n",
    "\n",
    "sns.barplot(x='system', y='per', data=plt_data, hue='class', palette=['#EB2B4C', '#DFDBD9'],alpha=0.75, ax=ax)\n",
    "_ = plt.xticks(rotation=60)\n",
    "plt.legend(bbox_to_anchor=[1,1])\n",
    "plt.ylabel('% Predictions')\n",
    "\n",
    "def change_width(ax, new_value) :\n",
    "    for patch in ax.patches :\n",
    "        current_width = patch.get_width()\n",
    "        diff = current_width - new_value\n",
    "\n",
    "        # we change the bar width\n",
    "        patch.set_width(new_value)\n",
    "\n",
    "        # we recenter the bar\n",
    "        patch.set_x(patch.get_x() + diff * .5)\n",
    "\n",
    "change_width(ax, .45)\n",
    "# sns.despine()\n",
    "\n",
    "plt.savefig(\"predictions_bar.pdf\", format='pdf', bbox_inches=\"tight\")"
   ]
  },
  {
   "cell_type": "code",
   "execution_count": null,
   "metadata": {
    "pycharm": {
     "name": "#%%\n"
    }
   },
   "outputs": [],
   "source": [
    "# Figure 4e\n",
    "boots = [pd.read_pickle(f) for f in glob.glob(rarefaction_path)]\n",
    "boots[1]['n_genes'] = boots[0]['n_genes']\n",
    "boots[2]['n_genes'] = boots[0]['n_genes']\n",
    "\n",
    "df = pd.concat(boots)\n",
    "\n",
    "fig, ax = plt.subplots(figsize=(14, 6))\n",
    "colors = ['limegreen', 'darkorange', 'cornflowerblue', 'gold', 'olive', 'tomato', 'deeppink', 'pink', 'turquoise']\n",
    "colors = ['deeppink', '#3F681C', '#9B0D7F', 'lightseagreen', 'aqua','gold', 'lightgreen', '#FB6542', 'dodgerblue']\n",
    "for c, cl in zip(colors, df.sort_values(by='function')[\"function\"].unique()):\n",
    "    class_data = df[df[\"function\"] == cl]\n",
    "    ax.plot(class_data['n_genes'], class_data['uniq_genes_mean'], color=c,\n",
    "            label=cl, lw=3, alpha=.8)\n",
    "    ax.fill_between(class_data['n_genes'], class_data['lower_q'], class_data['upper_q'], color=c, alpha=.1)\n",
    "\n",
    "ax.grid(True)\n",
    "plt.legend(bbox_to_anchor=(1.01, 1))\n",
    "plt.xlabel(\"Number of genes in sample\")\n",
    "plt.ylabel(\"Number of genes\")\n",
    "plt.xlim(1000, df['n_genes'].max())\n",
    "\n",
    "plt.savefig(\"rarefaction.pdf\", bbox_inches='tight')\n"
   ]
  },
  {
   "cell_type": "code",
   "execution_count": null,
   "metadata": {
    "pycharm": {
     "name": "#%%\n"
    }
   },
   "outputs": [],
   "source": []
  }
 ],
 "metadata": {
  "kernelspec": {
   "display_name": "Python 3 (ipykernel)",
   "language": "python",
   "name": "python3"
  },
  "language_info": {
   "codemirror_mode": {
    "name": "ipython",
    "version": 3
   },
   "file_extension": ".py",
   "mimetype": "text/x-python",
   "name": "python",
   "nbconvert_exporter": "python",
   "pygments_lexer": "ipython3",
   "version": "3.9.12"
  }
 },
 "nbformat": 4,
 "nbformat_minor": 4
}